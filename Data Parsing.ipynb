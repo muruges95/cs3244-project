{
 "cells": [
  {
   "cell_type": "code",
   "execution_count": 1,
   "metadata": {},
   "outputs": [],
   "source": [
    "#import multiple files with names as Kickstarter*.csv into pandas dataframe (data used 15 Aug 2019)\n",
    "\n",
    "from glob import glob\n",
    "import pandas as pd\n",
    "\n",
    "# for auto-reloading extenrnal modules\n",
    "%load_ext autoreload\n",
    "%autoreload 2\n",
    "\n",
    "#just replace the path parts\n",
    "#glob import all files starting with Kickstarter in the folder (the folder i used is the 15 Aug 2019)\n",
    "\n",
    "filenames = glob(r\"Kickstarter_2019-08-15T03_20_03_022Z/Kickstarter*.csv\")\n",
    "\n",
    "df = [pd.read_csv(f, encoding='utf-8') for f in filenames]\n",
    "\n",
    "data = pd.concat(df, axis = 0, ignore_index = True).reset_index()"
   ]
  },
  {
   "cell_type": "code",
   "execution_count": 2,
   "metadata": {},
   "outputs": [],
   "source": [
    "from pandas.io.json import json_normalize\n",
    "import json as json\n",
    "import numpy as np\n",
    "\n",
    "#data['category'].fillna(json.dumps('{}'), inplace = True)\n",
    "data['location'].fillna('{}', inplace = True)\n",
    "#data['creator'].fillna(json.dumps('{}'), inplace = True)\n",
    "\n",
    "x1 = json_normalize(data['category'].apply(json.loads)).add_prefix('category_')\n",
    "x3 = json_normalize(data['location'].apply(json.loads)).add_prefix('location_')\n",
    "x5 = json_normalize(data['creator'].apply(lambda x: json.loads(x.replace('\\n', '').replace('\\r', '').replace('\\\\', '').replace('\"', r'\\\"').replace(r'{\\\"', '{\"').replace(r'\\\"}', '\"}').replace(r':\\\"', ':\"').replace(r'\\\":', '\":').replace(r',\\\"', ',\"').replace(r'\\\",', '\",').replace(r'\", ', r'\\\",')))).add_prefix('creator_')\n",
    "\n",
    "data = pd.concat([data, x1, x3, x5], axis = 1)"
   ]
  },
  {
   "cell_type": "code",
   "execution_count": 3,
   "metadata": {},
   "outputs": [],
   "source": [
    "from datetime import datetime\n",
    "data['launched_at_utc'] = data['launched_at'].apply(datetime.utcfromtimestamp)\n",
    "data['deadline_utc'] = data['deadline'].apply(datetime.utcfromtimestamp)\n",
    "data['created_at_utc'] = data['created_at'].apply(datetime.utcfromtimestamp)\n",
    "data['goal'] = round(data['goal'] * data['static_usd_rate'], 2)"
   ]
  },
  {
   "cell_type": "code",
   "execution_count": 4,
   "metadata": {},
   "outputs": [
    {
     "name": "stderr",
     "output_type": "stream",
     "text": [
      "/home/muruges/.conda/envs/CS3244_Proj/lib/python3.6/site-packages/ipykernel_launcher.py:12: SettingWithCopyWarning: \n",
      "A value is trying to be set on a copy of a slice from a DataFrame.\n",
      "Try using .loc[row_indexer,col_indexer] = value instead\n",
      "\n",
      "See the caveats in the documentation: http://pandas.pydata.org/pandas-docs/stable/user_guide/indexing.html#returning-a-view-versus-a-copy\n",
      "  if sys.path[0] == '':\n",
      "/home/muruges/.conda/envs/CS3244_Proj/lib/python3.6/site-packages/ipykernel_launcher.py:15: SettingWithCopyWarning: \n",
      "A value is trying to be set on a copy of a slice from a DataFrame.\n",
      "Try using .loc[row_indexer,col_indexer] = value instead\n",
      "\n",
      "See the caveats in the documentation: http://pandas.pydata.org/pandas-docs/stable/user_guide/indexing.html#returning-a-view-versus-a-copy\n",
      "  from ipykernel import kernelapp as app\n",
      "/home/muruges/.conda/envs/CS3244_Proj/lib/python3.6/site-packages/ipykernel_launcher.py:18: SettingWithCopyWarning: \n",
      "A value is trying to be set on a copy of a slice from a DataFrame.\n",
      "Try using .loc[row_indexer,col_indexer] = value instead\n",
      "\n",
      "See the caveats in the documentation: http://pandas.pydata.org/pandas-docs/stable/user_guide/indexing.html#returning-a-view-versus-a-copy\n"
     ]
    }
   ],
   "source": [
    "#pick the relevant data and drop all irrelevant data \n",
    "\n",
    "df = data[[ \n",
    "'goal', 'state', 'location_id',  'category_id', 'deadline_utc', 'launched_at_utc']]\n",
    "\n",
    "#feature creation \n",
    "#feature 1: no. of projects for each creator \n",
    "# df1 = df.groupby('creator_id')['id'].count()\n",
    "# df = pd.merge(df, pd.DataFrame(df1), how = 'left', on = 'creator_id')\n",
    "\n",
    "#feature 2: duration of project \n",
    "df['duration'] = (df['deadline_utc'] - df['launched_at_utc']).dt.days\n",
    "\n",
    "#feature 4: month of launch\n",
    "df['launch_month'] = df['launched_at_utc'].dt.month\n",
    "\n",
    "#change state to numerical \n",
    "df['state'] = df['state'].map({'successful': 1, 'failed': 0 })\n",
    "\n",
    "# #change staff_pick to numerical \n",
    "# df['staff_pick'] = df['staff_pick'].map({True: 1, False: 0 })\n",
    "\n",
    "#drop columns\n",
    "df = df.drop(columns = ['launched_at_utc', 'deadline_utc'])\n",
    "df = df.dropna() #drop null rows\n",
    "columns = df.columns.tolist()\n",
    "\n",
    "columns = columns[-4:] + columns[:-4]\n",
    "df = df[columns]"
   ]
  },
  {
   "cell_type": "code",
   "execution_count": 5,
   "metadata": {},
   "outputs": [
    {
     "name": "stdout",
     "output_type": "stream",
     "text": [
      "['location_id', 'category_id', 'duration', 'launch_month', 'goal', 'state']\n",
      "[2.483145e+06 2.700000e+01 2.900000e+01 2.000000e+00 5.000000e+02\n",
      " 0.000000e+00]\n",
      "(192137, 5)\n",
      "(192137,)\n"
     ]
    }
   ],
   "source": [
    "print(df.columns.tolist())\n",
    "print(df.iloc[0].values)\n",
    "X = np.array(df.iloc[:,:-1].values)\n",
    "y = np.array(df.iloc[:,-1].values)\n",
    "print(X.shape)\n",
    "print(y.shape)"
   ]
  },
  {
   "cell_type": "code",
   "execution_count": 6,
   "metadata": {},
   "outputs": [
    {
     "name": "stdout",
     "output_type": "stream",
     "text": [
      "(153709, 5) (38428, 5)\n"
     ]
    }
   ],
   "source": [
    "from sklearn.model_selection import train_test_split\n",
    "X_train, X_test, y_train, y_test = train_test_split(X, y, test_size=0.2)\n",
    "print(X_train.shape, X_test.shape)"
   ]
  },
  {
   "cell_type": "code",
   "execution_count": 7,
   "metadata": {},
   "outputs": [
    {
     "name": "stdout",
     "output_type": "stream",
     "text": [
      "After feature scaling:  [-0.12502847 -0.99374277 -0.19165208  1.74355751 -0.02613001]\n"
     ]
    }
   ],
   "source": [
    "from sklearn.preprocessing import StandardScaler\n",
    "sc_X = StandardScaler()\n",
    "X_train = sc_X.fit_transform(X_train)\n",
    "X_test = sc_X.transform(X_test)\n",
    "print('After feature scaling: ', X_train[10])"
   ]
  },
  {
   "cell_type": "code",
   "execution_count": 8,
   "metadata": {},
   "outputs": [
    {
     "name": "stderr",
     "output_type": "stream",
     "text": [
      "Using Theano backend.\n",
      "WARNING (theano.configdefaults): install mkl with `conda install mkl-service`: No module named 'mkl'\n",
      "WARNING (theano.tensor.blas): Using NumPy C-API based implementation for BLAS functions.\n"
     ]
    },
    {
     "name": "stdout",
     "output_type": "stream",
     "text": [
      "Input dim:  5\n",
      "Output dim:  2\n"
     ]
    },
    {
     "name": "stderr",
     "output_type": "stream",
     "text": [
      "/home/muruges/.conda/envs/CS3244_Proj/lib/python3.6/site-packages/ipykernel_launcher.py:23: UserWarning: Update your `Dense` call to the Keras 2 API: `Dense(activation=\"sigmoid\", units=1)`\n"
     ]
    },
    {
     "name": "stdout",
     "output_type": "stream",
     "text": [
      "Epoch 1/50\n",
      "153709/153709 [==============================] - 1s 9us/step - loss: 0.6304 - acc: 0.6524\n",
      "Epoch 2/50\n",
      "153709/153709 [==============================] - 1s 9us/step - loss: 0.6018 - acc: 0.6810\n",
      "Epoch 3/50\n",
      "153709/153709 [==============================] - 1s 9us/step - loss: 0.5966 - acc: 0.6848A: 0s - loss: 0.5973 - \n",
      "Epoch 4/50\n",
      "153709/153709 [==============================] - 1s 9us/step - loss: 0.5929 - acc: 0.6881\n",
      "Epoch 5/50\n",
      "153709/153709 [==============================] - 1s 8us/step - loss: 0.5915 - acc: 0.6891\n",
      "Epoch 6/50\n",
      "153709/153709 [==============================] - 1s 8us/step - loss: 0.5912 - acc: 0.6907\n",
      "Epoch 7/50\n",
      "153709/153709 [==============================] - 1s 9us/step - loss: 0.5911 - acc: 0.6904\n",
      "Epoch 8/50\n",
      "153709/153709 [==============================] - 1s 9us/step - loss: 0.5911 - acc: 0.6903\n",
      "Epoch 9/50\n",
      "153709/153709 [==============================] - 1s 8us/step - loss: 0.5911 - acc: 0.6898\n",
      "Epoch 10/50\n",
      "153709/153709 [==============================] - 1s 8us/step - loss: 0.5911 - acc: 0.6906\n",
      "Epoch 11/50\n",
      "153709/153709 [==============================] - 1s 9us/step - loss: 0.5911 - acc: 0.6902\n",
      "Epoch 12/50\n",
      "153709/153709 [==============================] - 2s 10us/step - loss: 0.5910 - acc: 0.6903: 0s - loss: 0.5897\n",
      "Epoch 13/50\n",
      "153709/153709 [==============================] - 2s 10us/step - loss: 0.5910 - acc: 0.6901\n",
      "Epoch 14/50\n",
      "153709/153709 [==============================] - 2s 10us/step - loss: 0.5910 - acc: 0.6903\n",
      "Epoch 15/50\n",
      "153709/153709 [==============================] - 2s 10us/step - loss: 0.5911 - acc: 0.6896\n",
      "Epoch 16/50\n",
      "153709/153709 [==============================] - 2s 12us/step - loss: 0.5910 - acc: 0.6905\n",
      "Epoch 17/50\n",
      "153709/153709 [==============================] - 2s 10us/step - loss: 0.5910 - acc: 0.6894\n",
      "Epoch 18/50\n",
      "153709/153709 [==============================] - 2s 11us/step - loss: 0.5910 - acc: 0.6895: 0s - loss: 0.5916 - acc: 0.68\n",
      "Epoch 19/50\n",
      "153709/153709 [==============================] - 1s 9us/step - loss: 0.5910 - acc: 0.6902\n",
      "Epoch 20/50\n",
      "153709/153709 [==============================] - 2s 11us/step - loss: 0.5911 - acc: 0.6902: 0s - loss: 0.5908 - acc: 0.690 - ETA: 0s - loss: 0.5908 - acc: 0.69\n",
      "Epoch 21/50\n",
      "153709/153709 [==============================] - 2s 10us/step - loss: 0.5911 - acc: 0.6902\n",
      "Epoch 22/50\n",
      "153709/153709 [==============================] - 2s 10us/step - loss: 0.5910 - acc: 0.6897: 1s - loss:  - ETA: 0s - loss: 0.5897 - acc: 0.\n",
      "Epoch 23/50\n",
      "153709/153709 [==============================] - 2s 11us/step - loss: 0.5911 - acc: 0.6902: 0s - loss: 0.5909 -\n",
      "Epoch 24/50\n",
      "153709/153709 [==============================] - 2s 10us/step - loss: 0.5911 - acc: 0.6899: 0s - loss: 0.5929 - \n",
      "Epoch 25/50\n",
      "153709/153709 [==============================] - 2s 10us/step - loss: 0.5910 - acc: 0.6901: 1s - loss: 0. - ETA: 0s - loss: 0.5908 - acc: 0.69 - ETA: 0s - loss: 0.5908 - acc: 0.\n",
      "Epoch 26/50\n",
      "153709/153709 [==============================] - 2s 11us/step - loss: 0.5911 - acc: 0.6899: 0s - loss: 0.5905 - acc: 0.6 - ETA: 0s - loss: 0.5898 - acc:  - ETA: 0s - loss: 0.5902 - ac - ETA: 0s - loss: 0.5910 - acc: 0.689\n",
      "Epoch 27/50\n",
      "153709/153709 [==============================] - 2s 10us/step - loss: 0.5910 - acc: 0.6898: 1s - \n",
      "Epoch 28/50\n",
      "153709/153709 [==============================] - 2s 10us/step - loss: 0.5910 - acc: 0.6900: 0s - loss: 0.59\n",
      "Epoch 29/50\n",
      "153709/153709 [==============================] - 2s 10us/step - loss: 0.5910 - acc: 0.6903: 1s - lo\n",
      "Epoch 30/50\n",
      "153709/153709 [==============================] - 2s 11us/step - loss: 0.5911 - acc: 0.6903: 0s - loss: 0.5919 - acc:  - ETA: 0s - loss: 0.5913 - acc:\n",
      "Epoch 31/50\n",
      "153709/153709 [==============================] - 2s 10us/step - loss: 0.5910 - acc: 0.6904\n",
      "Epoch 32/50\n",
      "153709/153709 [==============================] - 2s 10us/step - loss: 0.5910 - acc: 0.6898\n",
      "Epoch 33/50\n",
      "153709/153709 [==============================] - 2s 11us/step - loss: 0.5911 - acc: 0.6903\n",
      "Epoch 34/50\n",
      "153709/153709 [==============================] - 2s 10us/step - loss: 0.5910 - acc: 0.6902\n",
      "Epoch 35/50\n",
      "153709/153709 [==============================] - 2s 10us/step - loss: 0.5911 - acc: 0.6898: 0s - loss: 0.\n",
      "Epoch 36/50\n",
      "153709/153709 [==============================] - 2s 11us/step - loss: 0.5910 - acc: 0.6903: 0s - loss: 0.5910 - acc: 0.\n",
      "Epoch 37/50\n",
      "153709/153709 [==============================] - 2s 11us/step - loss: 0.5910 - acc: 0.6905: 1s - los\n",
      "Epoch 38/50\n",
      "153709/153709 [==============================] - 2s 10us/step - loss: 0.5910 - acc: 0.6898: 1s - loss: 0.5929 - a - ETA: 0s - loss: 0.58 - ETA: 0s - loss: 0.5909 - acc: 0.69\n",
      "Epoch 39/50\n",
      "153709/153709 [==============================] - 2s 10us/step - loss: 0.5911 - acc: 0.6901: 0s - loss: 0.5910 - acc: 0 - ETA: 0s - loss: 0.5914 - acc: 0.6 - ETA: 0s - loss: 0.5909 - acc: \n",
      "Epoch 40/50\n",
      "153709/153709 [==============================] - 2s 11us/step - loss: 0.5910 - acc: 0.6902: 1s - lo\n",
      "Epoch 41/50\n",
      "153709/153709 [==============================] - 2s 11us/step - loss: 0.5909 - acc: 0.6897\n",
      "Epoch 42/50\n",
      "153709/153709 [==============================] - 2s 12us/step - loss: 0.5911 - acc: 0.6903\n",
      "Epoch 43/50\n",
      "153709/153709 [==============================] - 2s 10us/step - loss: 0.5911 - acc: 0.6902: 0s - loss: 0.5\n",
      "Epoch 44/50\n",
      "153709/153709 [==============================] - 2s 11us/step - loss: 0.5910 - acc: 0.6903: 1s - loss: 0.\n",
      "Epoch 45/50\n",
      "153709/153709 [==============================] - 2s 11us/step - loss: 0.5910 - acc: 0.6904: 0s - loss: 0.5908 -\n",
      "Epoch 46/50\n",
      "153709/153709 [==============================] - 2s 10us/step - loss: 0.5910 - acc: 0.6901: 1s - loss: 0.592 - ETA: 0s - loss: 0.5904 - acc: 0.6 - ETA: 0s - loss: 0.5903 - acc: 0.69 - ETA: 0s - loss: 0.5906 - acc: 0.\n",
      "Epoch 47/50\n",
      "153709/153709 [==============================] - 2s 11us/step - loss: 0.5910 - acc: 0.6899\n",
      "Epoch 48/50\n",
      "153709/153709 [==============================] - 2s 11us/step - loss: 0.5911 - acc: 0.6900: 0s - loss: 0.5904 - acc - ETA: 0s - loss: 0.5908 \n",
      "Epoch 49/50\n",
      "153709/153709 [==============================] - 2s 10us/step - loss: 0.5911 - acc: 0.6900: 0s - loss: 0.5915 - \n",
      "Epoch 50/50\n",
      "153709/153709 [==============================] - 2s 10us/step - loss: 0.5911 - acc: 0.6899\n"
     ]
    },
    {
     "data": {
      "text/plain": [
       "<keras.callbacks.History at 0x7f0846c6c5c0>"
      ]
     },
     "execution_count": 8,
     "metadata": {},
     "output_type": "execute_result"
    }
   ],
   "source": [
    "import keras\n",
    "from keras.models import Sequential\n",
    "from keras.layers import Dense\n",
    "from keras.layers import Dropout\n",
    "\n",
    "classifier = Sequential()\n",
    "\n",
    "input_dim = int(X_train.shape[1])\n",
    "output_dim = int(X_train.shape[1] / 2)\n",
    "\n",
    "print('Input dim: ', input_dim)\n",
    "print('Output dim: ', output_dim)\n",
    "\n",
    "#input layer\n",
    "classifier.add(Dense(units=output_dim, activation='relu', input_dim=input_dim))\n",
    "# classifier.add(Dropout(p=0.1))\n",
    "\n",
    "# hidden layer\n",
    "classifier.add(Dense(units=output_dim, activation='relu'))\n",
    "# classifier.add(Dropout(p=0.1))\n",
    "\n",
    "# output layer\n",
    "classifier.add(Dense(output_dim=1, activation='sigmoid'))\n",
    "\n",
    "# compile ann\n",
    "classifier.compile(optimizer='rmsprop', loss='binary_crossentropy', metrics=['accuracy'])\n",
    "\n",
    "# fit ANN\n",
    "classifier.fit(X_train, y_train, batch_size=50, epochs=50)"
   ]
  },
  {
   "cell_type": "code",
   "execution_count": 9,
   "metadata": {},
   "outputs": [
    {
     "data": {
      "text/plain": [
       "array([[ True],\n",
       "       [ True],\n",
       "       [ True],\n",
       "       ...,\n",
       "       [False],\n",
       "       [ True],\n",
       "       [ True]])"
      ]
     },
     "execution_count": 9,
     "metadata": {},
     "output_type": "execute_result"
    }
   ],
   "source": [
    "y_pred = classifier.predict(X_test)\n",
    "y_pred = (y_pred > 0.5)\n",
    "y_pred"
   ]
  },
  {
   "cell_type": "code",
   "execution_count": 10,
   "metadata": {},
   "outputs": [
    {
     "data": {
      "text/plain": [
       "0.6911106484854793"
      ]
     },
     "execution_count": 10,
     "metadata": {},
     "output_type": "execute_result"
    }
   ],
   "source": [
    "from sklearn.metrics import accuracy_score\n",
    "metrics = accuracy_score(y_test, y_pred)\n",
    "metrics"
   ]
  },
  {
   "cell_type": "code",
   "execution_count": null,
   "metadata": {},
   "outputs": [],
   "source": [
    "3"
   ]
  }
 ],
 "metadata": {
  "kernelspec": {
   "display_name": "Python 3",
   "language": "python",
   "name": "python3"
  },
  "language_info": {
   "codemirror_mode": {
    "name": "ipython",
    "version": 3
   },
   "file_extension": ".py",
   "mimetype": "text/x-python",
   "name": "python",
   "nbconvert_exporter": "python",
   "pygments_lexer": "ipython3",
   "version": "3.6.7"
  }
 },
 "nbformat": 4,
 "nbformat_minor": 2
}
