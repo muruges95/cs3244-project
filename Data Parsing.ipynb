{
 "cells": [
  {
   "cell_type": "code",
   "execution_count": 1,
   "metadata": {},
   "outputs": [
    {
     "name": "stderr",
     "output_type": "stream",
     "text": [
      "/home/muruges/.conda/envs/CS3244_Proj/lib/python3.6/site-packages/ipykernel_launcher.py:32: SettingWithCopyWarning: \n",
      "A value is trying to be set on a copy of a slice from a DataFrame.\n",
      "Try using .loc[row_indexer,col_indexer] = value instead\n",
      "\n",
      "See the caveats in the documentation: http://pandas.pydata.org/pandas-docs/stable/user_guide/indexing.html#returning-a-view-versus-a-copy\n",
      "/home/muruges/.conda/envs/CS3244_Proj/lib/python3.6/site-packages/ipykernel_launcher.py:35: SettingWithCopyWarning: \n",
      "A value is trying to be set on a copy of a slice from a DataFrame.\n",
      "Try using .loc[row_indexer,col_indexer] = value instead\n",
      "\n",
      "See the caveats in the documentation: http://pandas.pydata.org/pandas-docs/stable/user_guide/indexing.html#returning-a-view-versus-a-copy\n",
      "/home/muruges/.conda/envs/CS3244_Proj/lib/python3.6/site-packages/ipykernel_launcher.py:38: SettingWithCopyWarning: \n",
      "A value is trying to be set on a copy of a slice from a DataFrame.\n",
      "Try using .loc[row_indexer,col_indexer] = value instead\n",
      "\n",
      "See the caveats in the documentation: http://pandas.pydata.org/pandas-docs/stable/user_guide/indexing.html#returning-a-view-versus-a-copy\n"
     ]
    },
    {
     "name": "stdout",
     "output_type": "stream",
     "text": [
      "328902\n",
      "['duration', 'launch_month', 'disable_communication', 'country', 'currency', 'goal', 'category_id', 'state']\n",
      "(657804, 8)\n"
     ]
    }
   ],
   "source": [
    "#import multiple files with names as Kickstarter*.csv into pandas dataframe (data used 15 Aug 2019)\n",
    "\n",
    "from glob import glob\n",
    "import pandas as pd\n",
    "from pandas.io.json import json_normalize\n",
    "import json as json\n",
    "import numpy as np\n",
    "from datetime import datetime\n",
    "\n",
    "# for auto-reloading extenrnal modules\n",
    "%load_ext autoreload\n",
    "%autoreload 2\n",
    "\n",
    "#just replace the path parts\n",
    "#glob import all files starting with Kickstarter in the folder (the folder i used is the 15 Aug 2019)\n",
    "\n",
    "filenames = glob(r\"/mnt/CS3244_Proj_Data/Kickstarter_201*/Kickstarter*.csv\")\n",
    "\n",
    "df_chunks = []\n",
    "for f in filenames:\n",
    "    for chunk in pd.read_csv(f, encoding='utf-8', chunksize=100000):\n",
    "        chunk['launched_at_utc'] = chunk['launched_at'].apply(datetime.utcfromtimestamp)\n",
    "        chunk['deadline_utc'] = chunk['deadline'].apply(datetime.utcfromtimestamp)\n",
    "        chunk['created_at_utc'] = chunk['created_at'].apply(datetime.utcfromtimestamp)\n",
    "        chunk['goal'] = round(chunk['goal'] * chunk['static_usd_rate'], 2)\n",
    "        x1 = json_normalize(chunk['category'].apply(json.loads)).add_prefix('category_')\n",
    "        chunk = pd.concat([chunk, x1], axis = 1)\n",
    "        df = chunk[['disable_communication', 'country', 'currency', 'goal', 'category_id', 'deadline_utc', 'launched_at_utc', 'state']]\n",
    "        #pick the relevant data and drop all irrelevant data \n",
    "\n",
    "        #feature 1: duration of project \n",
    "        df['duration'] = (df['deadline_utc'] - df['launched_at_utc']).dt.days\n",
    "\n",
    "        #feature 2: month of launch\n",
    "        df['launch_month'] = df['launched_at_utc'].dt.month\n",
    "\n",
    "        #change state to numerical \n",
    "        df['state'] = df['state'].map({'successful': 1, 'failed': 0 })\n",
    "\n",
    "        #drop columns\n",
    "        df = df.drop(columns = ['launched_at_utc', 'deadline_utc'])\n",
    "        df = df.dropna() #drop null rows\n",
    "        columns = df.columns.tolist()\n",
    "\n",
    "        columns = columns[-2:] + columns[:-2]\n",
    "        df_chunks.append(df[columns])\n",
    "        \n",
    "\n",
    "df = pd.concat(df_chunks, axis = 0, ignore_index = True).reset_index()\n",
    "df = df.drop(columns = ['index'])\n",
    "success_length = df.loc[df['state'] == 1].shape[0]\n",
    "failure_length = df.shape[0] - success_length\n",
    "sample_size = min(success_length, failure_length) // 5\n",
    "print(sample_size)\n",
    "# Get equal number of success and failure cases\n",
    "df = pd.concat([df.loc[df['state'] == 1].sample(n=sample_size), df.loc[df['state'] == 0].sample(n=sample_size)])\n",
    "print(df.columns.tolist())\n",
    "print(df.shape)"
   ]
  },
  {
   "cell_type": "code",
   "execution_count": 2,
   "metadata": {
    "scrolled": true
   },
   "outputs": [
    {
     "name": "stdout",
     "output_type": "stream",
     "text": [
      "['duration', 'launch_month', 'disable_communication', 'country', 'currency', 'goal', 'category_id', 'state']\n",
      "[24 7 False 'US' 'USD' 5000.0 34 1.0]\n"
     ]
    },
    {
     "name": "stderr",
     "output_type": "stream",
     "text": [
      "/home/muruges/.conda/envs/CS3244_Proj/lib/python3.6/site-packages/sklearn/preprocessing/_encoders.py:415: FutureWarning: The handling of integer data will change in version 0.22. Currently, the categories are determined based on the range [0, max(values)], while in the future they will be determined based on the unique values.\n",
      "If you want the future behaviour and silence this warning, you can specify \"categories='auto'\".\n",
      "In case you used a LabelEncoder before this OneHotEncoder to convert the categories to integers, then you can now use the OneHotEncoder directly.\n",
      "  warnings.warn(msg, FutureWarning)\n",
      "/home/muruges/.conda/envs/CS3244_Proj/lib/python3.6/site-packages/sklearn/preprocessing/_encoders.py:451: DeprecationWarning: The 'categorical_features' keyword is deprecated in version 0.20 and will be removed in 0.22. You can use the ColumnTransformer instead.\n",
      "  \"use the ColumnTransformer instead.\", DeprecationWarning)\n"
     ]
    }
   ],
   "source": [
    "from sklearn.preprocessing import LabelEncoder, OneHotEncoder\n",
    "\n",
    "print(df.columns.tolist())\n",
    "print(df.iloc[0].values)\n",
    "X = np.array(df.iloc[:,:-1].values)\n",
    "y = np.array(df.iloc[:,-1].values)\n",
    "\n",
    "label_encoder_month_of_launch = LabelEncoder()\n",
    "X[:, 1] = label_encoder_month_of_launch.fit_transform(X[:, 1])\n",
    "\n",
    "label_encoder_disable_com = LabelEncoder()\n",
    "X[:, 2] = label_encoder_disable_com.fit_transform(X[:, 2])\n",
    "\n",
    "label_encoder_country = LabelEncoder()\n",
    "X[:, 3] = label_encoder_country.fit_transform(X[:, 3])\n",
    "\n",
    "label_encoder_currency = LabelEncoder()\n",
    "X[:, 4] = label_encoder_currency.fit_transform(X[:, 4])\n",
    "\n",
    "label_encoder_category = LabelEncoder()\n",
    "X[:, 6] = label_encoder_category.fit_transform(X[:, 6])\n",
    "\n",
    "one_hot_encoding = OneHotEncoder(categorical_features=[1, 2, 3, 4, 6])\n",
    "X = one_hot_encoding.fit_transform(X).toarray()"
   ]
  },
  {
   "cell_type": "code",
   "execution_count": 3,
   "metadata": {},
   "outputs": [
    {
     "name": "stdout",
     "output_type": "stream",
     "text": [
      "(526243, 221) (131561, 221)\n"
     ]
    }
   ],
   "source": [
    "from sklearn.model_selection import train_test_split\n",
    "X_train, X_test, y_train, y_test = train_test_split(X, y, test_size=0.2)\n",
    "print(X_train.shape, X_test.shape)"
   ]
  },
  {
   "cell_type": "code",
   "execution_count": 4,
   "metadata": {},
   "outputs": [],
   "source": [
    "from sklearn.preprocessing import StandardScaler\n",
    "sc_X = StandardScaler()\n",
    "X_train = sc_X.fit_transform(X_train)\n",
    "X_test = sc_X.transform(X_test)"
   ]
  },
  {
   "cell_type": "code",
   "execution_count": 15,
   "metadata": {},
   "outputs": [
    {
     "name": "stdout",
     "output_type": "stream",
     "text": [
      "Input dim:  221\n",
      "Output dim:  73\n"
     ]
    },
    {
     "name": "stderr",
     "output_type": "stream",
     "text": [
      "/home/muruges/.conda/envs/CS3244_Proj/lib/python3.6/site-packages/ipykernel_launcher.py:16: UserWarning: Update your `Dropout` call to the Keras 2 API: `Dropout(rate=0.1)`\n",
      "  app.launch_new_instance()\n"
     ]
    },
    {
     "name": "stdout",
     "output_type": "stream",
     "text": [
      "Epoch 1/40\n",
      "526243/526243 [==============================] - 41s 78us/step - loss: 0.4721 - acc: 0.7560\n",
      "Epoch 2/40\n",
      "526243/526243 [==============================] - 44s 83us/step - loss: 0.4605 - acc: 0.7622\n",
      "Epoch 3/40\n",
      "526243/526243 [==============================] - 45s 85us/step - loss: 0.4562 - acc: 0.7644\n",
      "Epoch 4/40\n",
      "526243/526243 [==============================] - 45s 85us/step - loss: 0.4533 - acc: 0.7660\n",
      "Epoch 5/40\n",
      "526243/526243 [==============================] - 44s 83us/step - loss: 0.4509 - acc: 0.7668\n",
      "Epoch 6/40\n",
      "526243/526243 [==============================] - 43s 82us/step - loss: 0.4493 - acc: 0.7685\n",
      "Epoch 7/40\n",
      "526243/526243 [==============================] - 43s 82us/step - loss: 0.4479 - acc: 0.7694\n",
      "Epoch 8/40\n",
      "526243/526243 [==============================] - 42s 80us/step - loss: 0.4461 - acc: 0.7697\n",
      "Epoch 9/40\n",
      "526243/526243 [==============================] - 43s 82us/step - loss: 0.4448 - acc: 0.7706\n",
      "Epoch 10/40\n",
      "526243/526243 [==============================] - 44s 85us/step - loss: 0.4434 - acc: 0.7715\n",
      "Epoch 11/40\n",
      "526243/526243 [==============================] - 44s 84us/step - loss: 0.4424 - acc: 0.7721\n",
      "Epoch 12/40\n",
      "526243/526243 [==============================] - 43s 83us/step - loss: 0.4414 - acc: 0.7728\n",
      "Epoch 13/40\n",
      "526243/526243 [==============================] - 44s 83us/step - loss: 0.4409 - acc: 0.7730\n",
      "Epoch 14/40\n",
      "526243/526243 [==============================] - 44s 83us/step - loss: 0.4397 - acc: 0.7739\n",
      "Epoch 15/40\n",
      "526243/526243 [==============================] - 44s 83us/step - loss: 0.4388 - acc: 0.7740\n",
      "Epoch 16/40\n",
      "526243/526243 [==============================] - 43s 82us/step - loss: 0.4375 - acc: 0.7751\n",
      "Epoch 17/40\n",
      "526243/526243 [==============================] - 44s 83us/step - loss: 0.4368 - acc: 0.7756\n",
      "Epoch 18/40\n",
      "526243/526243 [==============================] - 45s 85us/step - loss: 0.4360 - acc: 0.7756\n",
      "Epoch 19/40\n",
      "526243/526243 [==============================] - 45s 86us/step - loss: 0.4355 - acc: 0.7761\n",
      "Epoch 20/40\n",
      "526243/526243 [==============================] - 45s 85us/step - loss: 0.4346 - acc: 0.7774\n",
      "Epoch 21/40\n",
      "526243/526243 [==============================] - 44s 84us/step - loss: 0.4342 - acc: 0.7774\n",
      "Epoch 22/40\n",
      "526243/526243 [==============================] - 44s 84us/step - loss: 0.4330 - acc: 0.7775\n",
      "Epoch 23/40\n",
      "526243/526243 [==============================] - 46s 86us/step - loss: 0.4329 - acc: 0.7780\n",
      "Epoch 24/40\n",
      "526243/526243 [==============================] - 48s 92us/step - loss: 0.4324 - acc: 0.7781\n",
      "Epoch 25/40\n",
      "526243/526243 [==============================] - 46s 88us/step - loss: 0.4319 - acc: 0.7783\n",
      "Epoch 26/40\n",
      "526243/526243 [==============================] - 46s 87us/step - loss: 0.4313 - acc: 0.7788\n",
      "Epoch 27/40\n",
      "526243/526243 [==============================] - 46s 88us/step - loss: 0.4312 - acc: 0.7790\n",
      "Epoch 28/40\n",
      "526243/526243 [==============================] - 45s 85us/step - loss: 0.4305 - acc: 0.7792\n",
      "Epoch 29/40\n",
      "526243/526243 [==============================] - 45s 85us/step - loss: 0.4298 - acc: 0.7800\n",
      "Epoch 30/40\n",
      "526243/526243 [==============================] - 45s 86us/step - loss: 0.4297 - acc: 0.7796\n",
      "Epoch 31/40\n",
      "526243/526243 [==============================] - 46s 88us/step - loss: 0.4290 - acc: 0.7806\n",
      "Epoch 32/40\n",
      "526243/526243 [==============================] - 46s 88us/step - loss: 0.4283 - acc: 0.7810\n",
      "Epoch 33/40\n",
      "526243/526243 [==============================] - 44s 84us/step - loss: 0.4281 - acc: 0.7809\n",
      "Epoch 34/40\n",
      "526243/526243 [==============================] - 44s 83us/step - loss: 0.4277 - acc: 0.7810\n",
      "Epoch 35/40\n",
      "526243/526243 [==============================] - 44s 83us/step - loss: 0.4276 - acc: 0.7813\n",
      "Epoch 36/40\n",
      "526243/526243 [==============================] - 44s 84us/step - loss: 0.4276 - acc: 0.7809\n",
      "Epoch 37/40\n",
      "526243/526243 [==============================] - 45s 85us/step - loss: 0.4270 - acc: 0.7815\n",
      "Epoch 38/40\n",
      "526243/526243 [==============================] - 44s 83us/step - loss: 0.4269 - acc: 0.7821\n",
      "Epoch 39/40\n",
      "526243/526243 [==============================] - 47s 88us/step - loss: 0.4263 - acc: 0.7823\n",
      "Epoch 40/40\n",
      "526243/526243 [==============================] - 45s 85us/step - loss: 0.4256 - acc: 0.7830\n"
     ]
    },
    {
     "data": {
      "text/plain": [
       "<keras.callbacks.History at 0x7fcea11cfc50>"
      ]
     },
     "execution_count": 15,
     "metadata": {},
     "output_type": "execute_result"
    }
   ],
   "source": [
    "import keras\n",
    "from keras.models import Sequential\n",
    "from keras.layers import Dense\n",
    "from keras.layers import Dropout\n",
    "\n",
    "classifier = Sequential()\n",
    "\n",
    "input_dim = int(X_train.shape[1])\n",
    "output_dim = input_dim // 3\n",
    "\n",
    "print('Input dim: ', input_dim)\n",
    "print('Output dim: ', output_dim)\n",
    "\n",
    "#input layer\n",
    "classifier.add(Dense(units=output_dim, activation='relu', input_dim=input_dim))\n",
    "classifier.add(Dropout(p=0.1))\n",
    "\n",
    "# hidden layer\n",
    "classifier.add(Dense(units=output_dim, activation='relu'))\n",
    "classifier.add(Dropout(rate=0.1))\n",
    "classifier.add(Dense(units=output_dim, activation='relu'))\n",
    "classifier.add(Dropout(rate=0.1))\n",
    "\n",
    "# output layer\n",
    "classifier.add(Dense(units=1, activation='sigmoid'))\n",
    "\n",
    "# compile ann\n",
    "classifier.compile(optimizer='adam', loss='binary_crossentropy', metrics=['accuracy'])\n",
    "\n",
    "# fit ANN\n",
    "classifier.fit(X_train, y_train, batch_size=30, epochs=40)"
   ]
  },
  {
   "cell_type": "code",
   "execution_count": 16,
   "metadata": {},
   "outputs": [
    {
     "data": {
      "text/plain": [
       "array([[ True],\n",
       "       [False],\n",
       "       [ True],\n",
       "       ...,\n",
       "       [ True],\n",
       "       [ True],\n",
       "       [ True]])"
      ]
     },
     "execution_count": 16,
     "metadata": {},
     "output_type": "execute_result"
    }
   ],
   "source": [
    "y_pred = classifier.predict(X_test)\n",
    "y_pred = (y_pred > 0.5)\n",
    "y_pred"
   ]
  },
  {
   "cell_type": "code",
   "execution_count": 17,
   "metadata": {},
   "outputs": [
    {
     "name": "stdout",
     "output_type": "stream",
     "text": [
      "Accuracy score of:  0.7833932548399601\n",
      "False Positive rate of:  0.0738364712946846\n",
      "False Negative rate of:  0.14277027386535524\n",
      "ROC AUC Score of:  0.7833937787958144\n"
     ]
    }
   ],
   "source": [
    "from sklearn.metrics import accuracy_score, confusion_matrix, roc_auc_score\n",
    "accuracy_score = accuracy_score(y_test, y_pred)\n",
    "confusion_matrix = confusion_matrix(y_test, y_pred) / len(y_pred)\n",
    "roc_score = roc_auc_score(y_test, y_pred)\n",
    "\n",
    "print(\"Accuracy score of: \", accuracy_score)\n",
    "print(\"False Positive rate of: \", confusion_matrix[0, 1])\n",
    "print(\"False Negative rate of: \", confusion_matrix[1, 0])\n",
    "print(\"ROC AUC Score of: \", roc_score)"
   ]
  },
  {
   "cell_type": "code",
   "execution_count": null,
   "metadata": {},
   "outputs": [],
   "source": []
  }
 ],
 "metadata": {
  "kernelspec": {
   "display_name": "Python 3",
   "language": "python",
   "name": "python3"
  },
  "language_info": {
   "codemirror_mode": {
    "name": "ipython",
    "version": 3
   },
   "file_extension": ".py",
   "mimetype": "text/x-python",
   "name": "python",
   "nbconvert_exporter": "python",
   "pygments_lexer": "ipython3",
   "version": "3.6.7"
  }
 },
 "nbformat": 4,
 "nbformat_minor": 2
}
