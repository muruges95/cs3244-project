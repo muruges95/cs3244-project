{
 "cells": [
  {
   "cell_type": "code",
   "execution_count": 1,
   "metadata": {},
   "outputs": [],
   "source": [
    "#import multiple files with names as Kickstarter*.csv into pandas dataframe (data used 15 Aug 2019)\n",
    "\n",
    "from glob import glob\n",
    "import pandas as pd\n",
    "\n",
    "# for auto-reloading extenrnal modules\n",
    "%load_ext autoreload\n",
    "%autoreload 2\n",
    "\n",
    "#just replace the path parts\n",
    "#glob import all files starting with Kickstarter in the folder (the folder i used is the 15 Aug 2019)\n",
    "\n",
    "filenames = glob(r\"Kickstarter_2019-08-15T03_20_03_022Z/Kickstarter*.csv\")\n",
    "\n",
    "df = [pd.read_csv(f, encoding='utf-8') for f in filenames]\n",
    "\n",
    "data = pd.concat(df, axis = 0, ignore_index = True).reset_index()"
   ]
  },
  {
   "cell_type": "code",
   "execution_count": 2,
   "metadata": {},
   "outputs": [],
   "source": [
    "from pandas.io.json import json_normalize\n",
    "import json as json\n",
    "import numpy as np\n",
    "\n",
    "#data['category'].fillna(json.dumps('{}'), inplace = True)\n",
    "data['location'].fillna('{}', inplace = True)\n",
    "#data['creator'].fillna(json.dumps('{}'), inplace = True)\n",
    "\n",
    "x1 = json_normalize(data['category'].apply(json.loads)).add_prefix('category_')\n",
    "x3 = json_normalize(data['location'].apply(json.loads)).add_prefix('location_')\n",
    "x5 = json_normalize(data['creator'].apply(lambda x: json.loads(x.replace('\\n', '').replace('\\r', '').replace('\\\\', '').replace('\"', r'\\\"').replace(r'{\\\"', '{\"').replace(r'\\\"}', '\"}').replace(r':\\\"', ':\"').replace(r'\\\":', '\":').replace(r',\\\"', ',\"').replace(r'\\\",', '\",').replace(r'\", ', r'\\\",')))).add_prefix('creator_')\n",
    "\n",
    "data = pd.concat([data, x1, x3, x5], axis = 1)"
   ]
  },
  {
   "cell_type": "code",
   "execution_count": 3,
   "metadata": {},
   "outputs": [],
   "source": [
    "from datetime import datetime\n",
    "data['launched_at_utc'] = data['launched_at'].apply(datetime.utcfromtimestamp)\n",
    "data['deadline_utc'] = data['deadline'].apply(datetime.utcfromtimestamp)\n",
    "data['created_at_utc'] = data['created_at'].apply(datetime.utcfromtimestamp)\n",
    "data['goal'] = round(data['goal'] * data['static_usd_rate'], 2)"
   ]
  },
  {
   "cell_type": "code",
   "execution_count": 4,
   "metadata": {},
   "outputs": [],
   "source": [
    "#pick the relevant data and drop all irrelevant data \n",
    "\n",
    "df = data[['id', 'backers_count', 'fx_rate', \n",
    "'goal', 'staff_pick', 'state', 'location_id', 'creator_id',  'category_id', 'deadline_utc', 'launched_at_utc']]\n",
    "\n",
    "#feature creation \n",
    "#feature 1: no. of projects for each creator \n",
    "df1 = df.groupby('creator_id')['id'].count()\n",
    "df = pd.merge(df, pd.DataFrame(df1), how = 'left', on = 'creator_id')\n",
    "\n",
    "#feature 2: duration of project \n",
    "df['duration'] = (df['deadline_utc'] - df['launched_at_utc']).dt.days\n",
    "\n",
    "#feature 4: month of launch\n",
    "df['launch_month'] = df['launched_at_utc'].dt.month\n",
    "\n",
    "#change state to numerical \n",
    "df['state'] = df['state'].map({'successful': 1, 'failed': 0 })\n",
    "\n",
    "#change staff_pick to numerical \n",
    "df['staff_pick'] = df['staff_pick'].map({True: 1, False: 0 })\n",
    "\n",
    "#drop columns\n",
    "df = df.drop(columns = ['id_x', 'launched_at_utc', 'deadline_utc', 'creator_id'])\n",
    "df = df.dropna() #drop null rows"
   ]
  },
  {
   "cell_type": "code",
   "execution_count": 12,
   "metadata": {},
   "outputs": [
    {
     "name": "stdout",
     "output_type": "stream",
     "text": [
      "(192137, 10)\n",
      "        backers_count   fx_rate      goal  staff_pick  state  location_id  \\\n",
      "0                  10  1.000000     500.0           0    0.0    2483145.0   \n",
      "1                   2  1.000000  100000.0           0    0.0    2406080.0   \n",
      "2                  11  1.000000    1500.0           1    0.0    2357024.0   \n",
      "4                   3  1.000000    4000.0           0    0.0    2510436.0   \n",
      "5                  29  1.000000    6000.0           0    0.0    2430300.0   \n",
      "...               ...       ...       ...         ...    ...          ...   \n",
      "207616             10  1.000000    1000.0           0    1.0   12485627.0   \n",
      "207617             23  1.000000     400.0           0    1.0    2367105.0   \n",
      "207618             61  1.205515     300.0           0    1.0      19344.0   \n",
      "207619              8  1.114773     179.0           0    1.0     673361.0   \n",
      "207620             22  0.104002    4000.0           0    1.0     901163.0   \n",
      "\n",
      "        category_id  id_y  duration  launch_month  \n",
      "0                27     1        29             2  \n",
      "1               291     2        30             2  \n",
      "2                50     1        29             8  \n",
      "4                27     1        30             6  \n",
      "5                50     1        57             7  \n",
      "...             ...   ...       ...           ...  \n",
      "207616           54     1        58             5  \n",
      "207617          343     2        30            12  \n",
      "207618          249    20        20             7  \n",
      "207619          280     9        60             9  \n",
      "207620           26     1        14            10  \n",
      "\n",
      "[192137 rows x 10 columns]\n",
      "backers_count         10.0\n",
      "fx_rate                1.0\n",
      "goal                 500.0\n",
      "staff_pick             0.0\n",
      "state                  0.0\n",
      "location_id      2483145.0\n",
      "category_id           27.0\n",
      "id_y                   1.0\n",
      "duration              29.0\n",
      "launch_month           2.0\n",
      "Name: 0, dtype: float64\n"
     ]
    }
   ],
   "source": [
    "print(df.shape)\n",
    "print(df)\n",
    "print(df.iloc[0])"
   ]
  },
  {
   "cell_type": "code",
   "execution_count": null,
   "metadata": {},
   "outputs": [],
   "source": []
  }
 ],
 "metadata": {
  "kernelspec": {
   "display_name": "Python 3",
   "language": "python",
   "name": "python3"
  },
  "language_info": {
   "codemirror_mode": {
    "name": "ipython",
    "version": 3
   },
   "file_extension": ".py",
   "mimetype": "text/x-python",
   "name": "python",
   "nbconvert_exporter": "python",
   "pygments_lexer": "ipython3",
   "version": "3.7.3"
  }
 },
 "nbformat": 4,
 "nbformat_minor": 2
}
