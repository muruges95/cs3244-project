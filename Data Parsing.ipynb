{
 "cells": [
  {
   "cell_type": "code",
   "execution_count": 1,
   "metadata": {},
   "outputs": [],
   "source": [
    "#import multiple files with names as Kickstarter*.csv into pandas dataframe (data used 15 Aug 2019)\n",
    "\n",
    "from glob import glob\n",
    "import pandas as pd\n",
    "\n",
    "# for auto-reloading extenrnal modules\n",
    "%load_ext autoreload\n",
    "%autoreload 2\n",
    "\n",
    "#just replace the path parts\n",
    "#glob import all files starting with Kickstarter in the folder (the folder i used is the 15 Aug 2019)\n",
    "\n",
    "filenames = glob(r\"Kickstarter_2019-08-15T03_20_03_022Z/Kickstarter*.csv\")\n",
    "\n",
    "df = [pd.read_csv(f, encoding='utf-8') for f in filenames]\n",
    "\n",
    "data = pd.concat(df, axis = 0, ignore_index = True).reset_index()"
   ]
  },
  {
   "cell_type": "code",
   "execution_count": 2,
   "metadata": {},
   "outputs": [],
   "source": [
    "from pandas.io.json import json_normalize\n",
    "import json as json\n",
    "import numpy as np\n",
    "\n",
    "#data['category'].fillna(json.dumps('{}'), inplace = True)\n",
    "data['location'].fillna('{}', inplace = True)\n",
    "#data['creator'].fillna(json.dumps('{}'), inplace = True)\n",
    "\n",
    "x1 = json_normalize(data['category'].apply(json.loads)).add_prefix('category_')\n",
    "x3 = json_normalize(data['location'].apply(json.loads)).add_prefix('location_')\n",
    "x5 = json_normalize(data['creator'].apply(lambda x: json.loads(x.replace('\\n', '').replace('\\r', '').replace('\\\\', '').replace('\"', r'\\\"').replace(r'{\\\"', '{\"').replace(r'\\\"}', '\"}').replace(r':\\\"', ':\"').replace(r'\\\":', '\":').replace(r',\\\"', ',\"').replace(r'\\\",', '\",').replace(r'\", ', r'\\\",')))).add_prefix('creator_')\n",
    "\n",
    "data = pd.concat([data, x1, x3, x5], axis = 1)"
   ]
  },
  {
   "cell_type": "code",
   "execution_count": 3,
   "metadata": {},
   "outputs": [],
   "source": [
    "from datetime import datetime\n",
    "data['launched_at_utc'] = data['launched_at'].apply(datetime.utcfromtimestamp)\n",
    "data['deadline_utc'] = data['deadline'].apply(datetime.utcfromtimestamp)\n",
    "data['created_at_utc'] = data['created_at'].apply(datetime.utcfromtimestamp)\n",
    "data['goal'] = round(data['goal'] * data['static_usd_rate'], 2)"
   ]
  },
  {
   "cell_type": "code",
   "execution_count": 28,
   "metadata": {},
   "outputs": [
    {
     "name": "stderr",
     "output_type": "stream",
     "text": [
      "/home/muruges/.conda/envs/CS3244_Proj/lib/python3.7/site-packages/ipykernel_launcher.py:12: SettingWithCopyWarning: \n",
      "A value is trying to be set on a copy of a slice from a DataFrame.\n",
      "Try using .loc[row_indexer,col_indexer] = value instead\n",
      "\n",
      "See the caveats in the documentation: http://pandas.pydata.org/pandas-docs/stable/user_guide/indexing.html#returning-a-view-versus-a-copy\n",
      "  if sys.path[0] == '':\n",
      "/home/muruges/.conda/envs/CS3244_Proj/lib/python3.7/site-packages/ipykernel_launcher.py:15: SettingWithCopyWarning: \n",
      "A value is trying to be set on a copy of a slice from a DataFrame.\n",
      "Try using .loc[row_indexer,col_indexer] = value instead\n",
      "\n",
      "See the caveats in the documentation: http://pandas.pydata.org/pandas-docs/stable/user_guide/indexing.html#returning-a-view-versus-a-copy\n",
      "  from ipykernel import kernelapp as app\n",
      "/home/muruges/.conda/envs/CS3244_Proj/lib/python3.7/site-packages/ipykernel_launcher.py:18: SettingWithCopyWarning: \n",
      "A value is trying to be set on a copy of a slice from a DataFrame.\n",
      "Try using .loc[row_indexer,col_indexer] = value instead\n",
      "\n",
      "See the caveats in the documentation: http://pandas.pydata.org/pandas-docs/stable/user_guide/indexing.html#returning-a-view-versus-a-copy\n",
      "/home/muruges/.conda/envs/CS3244_Proj/lib/python3.7/site-packages/ipykernel_launcher.py:21: SettingWithCopyWarning: \n",
      "A value is trying to be set on a copy of a slice from a DataFrame.\n",
      "Try using .loc[row_indexer,col_indexer] = value instead\n",
      "\n",
      "See the caveats in the documentation: http://pandas.pydata.org/pandas-docs/stable/user_guide/indexing.html#returning-a-view-versus-a-copy\n"
     ]
    }
   ],
   "source": [
    "#pick the relevant data and drop all irrelevant data \n",
    "\n",
    "df = data[['backers_count', \n",
    "'goal', 'staff_pick', 'state', 'location_id',  'category_id', 'deadline_utc', 'launched_at_utc']]\n",
    "\n",
    "#feature creation \n",
    "#feature 1: no. of projects for each creator \n",
    "# df1 = df.groupby('creator_id')['id'].count()\n",
    "# df = pd.merge(df, pd.DataFrame(df1), how = 'left', on = 'creator_id')\n",
    "\n",
    "#feature 2: duration of project \n",
    "df['duration'] = (df['deadline_utc'] - df['launched_at_utc']).dt.days\n",
    "\n",
    "#feature 4: month of launch\n",
    "df['launch_month'] = df['launched_at_utc'].dt.month\n",
    "\n",
    "#change state to numerical \n",
    "df['state'] = df['state'].map({'successful': 1, 'failed': 0 })\n",
    "\n",
    "#change staff_pick to numerical \n",
    "df['staff_pick'] = df['staff_pick'].map({True: 1, False: 0 })\n",
    "\n",
    "#drop columns\n",
    "df = df.drop(columns = ['launched_at_utc', 'deadline_utc'])\n",
    "df = df.dropna() #drop null rows\n",
    "columns = df.columns.tolist()\n",
    "\n",
    "columns = columns[-4:] + columns[:-4]\n",
    "df = df[columns]"
   ]
  },
  {
   "cell_type": "code",
   "execution_count": 31,
   "metadata": {},
   "outputs": [
    {
     "name": "stdout",
     "output_type": "stream",
     "text": [
      "(192137, 8)\n",
      "        location_id  category_id  duration  launch_month  backers_count  \\\n",
      "0         2483145.0           27        29             2             10   \n",
      "1         2406080.0          291        30             2              2   \n",
      "2         2357024.0           50        29             8             11   \n",
      "4         2510436.0           27        30             6              3   \n",
      "5         2430300.0           50        57             7             29   \n",
      "...             ...          ...       ...           ...            ...   \n",
      "207616   12485627.0           54        58             5             10   \n",
      "207617    2367105.0          343        30            12             23   \n",
      "207618      19344.0          249        20             7             61   \n",
      "207619     673361.0          280        60             9              8   \n",
      "207620     901163.0           26        14            10             22   \n",
      "\n",
      "             goal  staff_pick  state  \n",
      "0          500.00           0    0.0  \n",
      "1       100000.00           0    0.0  \n",
      "2         1500.00           1    0.0  \n",
      "4         4000.00           0    0.0  \n",
      "5         6000.00           0    0.0  \n",
      "...           ...         ...    ...  \n",
      "207616    1000.00           0    1.0  \n",
      "207617     400.00           0    1.0  \n",
      "207618     392.77           0    1.0  \n",
      "207619     202.33           0    1.0  \n",
      "207620     470.80           0    1.0  \n",
      "\n",
      "[192137 rows x 8 columns]\n",
      "[[2.483145e+06 2.700000e+01 2.900000e+01]\n",
      " [2.406080e+06 2.910000e+02 3.000000e+01]\n",
      " [2.357024e+06 5.000000e+01 2.900000e+01]\n",
      " ...\n",
      " [1.934400e+04 2.490000e+02 2.000000e+01]\n",
      " [6.733610e+05 2.800000e+02 6.000000e+01]\n",
      " [9.011630e+05 2.600000e+01 1.400000e+01]]\n",
      "['location_id', 'category_id', 'duration', 'launch_month', 'backers_count', 'goal', 'staff_pick', 'state']\n",
      "[[2.483145e+06 2.700000e+01 2.900000e+01 ... 1.000000e+01 5.000000e+02\n",
      "  0.000000e+00]\n",
      " [2.406080e+06 2.910000e+02 3.000000e+01 ... 2.000000e+00 1.000000e+05\n",
      "  0.000000e+00]\n",
      " [2.357024e+06 5.000000e+01 2.900000e+01 ... 1.100000e+01 1.500000e+03\n",
      "  1.000000e+00]\n",
      " ...\n",
      " [1.934400e+04 2.490000e+02 2.000000e+01 ... 6.100000e+01 3.927700e+02\n",
      "  0.000000e+00]\n",
      " [6.733610e+05 2.800000e+02 6.000000e+01 ... 8.000000e+00 2.023300e+02\n",
      "  0.000000e+00]\n",
      " [9.011630e+05 2.600000e+01 1.400000e+01 ... 2.200000e+01 4.708000e+02\n",
      "  0.000000e+00]]\n",
      "[0. 0. 0. ... 1. 1. 1.]\n"
     ]
    }
   ],
   "source": [
    "print(df.shape)\n",
    "print(df)\n",
    "print(np.array(df.iloc[:, 0:3].values))\n",
    "print(df.columns.values.tolist())\n",
    "\n",
    "X = np.array(df.iloc[:,:-1].values)\n",
    "Y = np.array(df.iloc[:,-1].values)\n",
    "print(X)\n",
    "print(Y)"
   ]
  },
  {
   "cell_type": "code",
   "execution_count": null,
   "metadata": {},
   "outputs": [],
   "source": []
  }
 ],
 "metadata": {
  "kernelspec": {
   "display_name": "Python 3",
   "language": "python",
   "name": "python3"
  },
  "language_info": {
   "codemirror_mode": {
    "name": "ipython",
    "version": 3
   },
   "file_extension": ".py",
   "mimetype": "text/x-python",
   "name": "python",
   "nbconvert_exporter": "python",
   "pygments_lexer": "ipython3",
   "version": "3.7.3"
  }
 },
 "nbformat": 4,
 "nbformat_minor": 2
}
