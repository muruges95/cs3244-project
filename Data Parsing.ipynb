{
 "cells": [
  {
   "cell_type": "code",
   "execution_count": 1,
   "metadata": {},
   "outputs": [
    {
     "name": "stderr",
     "output_type": "stream",
     "text": [
      "/home/muruges/.conda/envs/CS3244_Proj/lib/python3.6/site-packages/ipykernel_launcher.py:32: SettingWithCopyWarning: \n",
      "A value is trying to be set on a copy of a slice from a DataFrame.\n",
      "Try using .loc[row_indexer,col_indexer] = value instead\n",
      "\n",
      "See the caveats in the documentation: http://pandas.pydata.org/pandas-docs/stable/user_guide/indexing.html#returning-a-view-versus-a-copy\n",
      "/home/muruges/.conda/envs/CS3244_Proj/lib/python3.6/site-packages/ipykernel_launcher.py:35: SettingWithCopyWarning: \n",
      "A value is trying to be set on a copy of a slice from a DataFrame.\n",
      "Try using .loc[row_indexer,col_indexer] = value instead\n",
      "\n",
      "See the caveats in the documentation: http://pandas.pydata.org/pandas-docs/stable/user_guide/indexing.html#returning-a-view-versus-a-copy\n",
      "/home/muruges/.conda/envs/CS3244_Proj/lib/python3.6/site-packages/ipykernel_launcher.py:38: SettingWithCopyWarning: \n",
      "A value is trying to be set on a copy of a slice from a DataFrame.\n",
      "Try using .loc[row_indexer,col_indexer] = value instead\n",
      "\n",
      "See the caveats in the documentation: http://pandas.pydata.org/pandas-docs/stable/user_guide/indexing.html#returning-a-view-versus-a-copy\n"
     ]
    },
    {
     "name": "stdout",
     "output_type": "stream",
     "text": [
      "328902\n",
      "['duration', 'launch_month', 'disable_communication', 'country', 'currency', 'goal', 'category_id', 'state']\n",
      "(657804, 8)\n"
     ]
    }
   ],
   "source": [
    "#import multiple files with names as Kickstarter*.csv into pandas dataframe (data used 15 Aug 2019)\n",
    "\n",
    "from glob import glob\n",
    "import pandas as pd\n",
    "from pandas.io.json import json_normalize\n",
    "import json as json\n",
    "import numpy as np\n",
    "from datetime import datetime\n",
    "\n",
    "# for auto-reloading extenrnal modules\n",
    "%load_ext autoreload\n",
    "%autoreload 2\n",
    "\n",
    "#just replace the path parts\n",
    "#glob import all files starting with Kickstarter in the folder (the folder i used is the 15 Aug 2019)\n",
    "\n",
    "filenames = glob(r\"/mnt/CS3244_Proj_Data/Kickstarter_201*/Kickstarter*.csv\")\n",
    "\n",
    "df_chunks = []\n",
    "for f in filenames:\n",
    "    for chunk in pd.read_csv(f, encoding='utf-8', chunksize=100000):\n",
    "        chunk['launched_at_utc'] = chunk['launched_at'].apply(datetime.utcfromtimestamp)\n",
    "        chunk['deadline_utc'] = chunk['deadline'].apply(datetime.utcfromtimestamp)\n",
    "        chunk['created_at_utc'] = chunk['created_at'].apply(datetime.utcfromtimestamp)\n",
    "        chunk['goal'] = round(chunk['goal'] * chunk['static_usd_rate'], 2)\n",
    "        x1 = json_normalize(chunk['category'].apply(json.loads)).add_prefix('category_')\n",
    "        chunk = pd.concat([chunk, x1], axis = 1)\n",
    "        df = chunk[['disable_communication', 'country', 'currency', 'goal', 'category_id', 'deadline_utc', 'launched_at_utc', 'state']]\n",
    "        #pick the relevant data and drop all irrelevant data \n",
    "\n",
    "        #feature 1: duration of project \n",
    "        df['duration'] = (df['deadline_utc'] - df['launched_at_utc']).dt.days\n",
    "\n",
    "        #feature 2: month of launch\n",
    "        df['launch_month'] = df['launched_at_utc'].dt.month\n",
    "\n",
    "        #change state to numerical \n",
    "        df['state'] = df['state'].map({'successful': 1, 'failed': 0 })\n",
    "\n",
    "        #drop columns\n",
    "        df = df.drop(columns = ['launched_at_utc', 'deadline_utc'])\n",
    "        df = df.dropna() #drop null rows\n",
    "        columns = df.columns.tolist()\n",
    "\n",
    "        columns = columns[-2:] + columns[:-2]\n",
    "        df_chunks.append(df[columns])\n",
    "        \n",
    "\n",
    "df = pd.concat(df_chunks, axis = 0, ignore_index = True).reset_index()\n",
    "df = df.drop(columns = ['index'])\n",
    "success_length = df.loc[df['state'] == 1].shape[0]\n",
    "failure_length = df.shape[0] - success_length\n",
    "sample_size = min(success_length, failure_length) // 5\n",
    "print(sample_size)\n",
    "# Get equal number of success and failure cases\n",
    "df = pd.concat([df.loc[df['state'] == 1].sample(n=sample_size), df.loc[df['state'] == 0].sample(n=sample_size)])\n",
    "print(df.columns.tolist())\n",
    "print(df.shape)"
   ]
  },
  {
   "cell_type": "code",
   "execution_count": 2,
   "metadata": {
    "scrolled": true
   },
   "outputs": [
    {
     "name": "stdout",
     "output_type": "stream",
     "text": [
      "['duration', 'launch_month', 'disable_communication', 'country', 'currency', 'goal', 'category_id', 'state']\n",
      "[31 8 False 'US' 'USD' 1000.0 47 1.0]\n"
     ]
    },
    {
     "name": "stderr",
     "output_type": "stream",
     "text": [
      "/home/muruges/.conda/envs/CS3244_Proj/lib/python3.6/site-packages/sklearn/preprocessing/_encoders.py:415: FutureWarning: The handling of integer data will change in version 0.22. Currently, the categories are determined based on the range [0, max(values)], while in the future they will be determined based on the unique values.\n",
      "If you want the future behaviour and silence this warning, you can specify \"categories='auto'\".\n",
      "In case you used a LabelEncoder before this OneHotEncoder to convert the categories to integers, then you can now use the OneHotEncoder directly.\n",
      "  warnings.warn(msg, FutureWarning)\n",
      "/home/muruges/.conda/envs/CS3244_Proj/lib/python3.6/site-packages/sklearn/preprocessing/_encoders.py:451: DeprecationWarning: The 'categorical_features' keyword is deprecated in version 0.20 and will be removed in 0.22. You can use the ColumnTransformer instead.\n",
      "  \"use the ColumnTransformer instead.\", DeprecationWarning)\n"
     ]
    }
   ],
   "source": [
    "from sklearn.preprocessing import LabelEncoder, OneHotEncoder\n",
    "\n",
    "print(df.columns.tolist())\n",
    "print(df.iloc[0].values)\n",
    "X = np.array(df.iloc[:,:-1].values)\n",
    "y = np.array(df.iloc[:,-1].values)\n",
    "\n",
    "label_encoder_month_of_launch = LabelEncoder()\n",
    "X[:, 1] = label_encoder_month_of_launch.fit_transform(X[:, 1])\n",
    "\n",
    "label_encoder_disable_com = LabelEncoder()\n",
    "X[:, 2] = label_encoder_disable_com.fit_transform(X[:, 2])\n",
    "\n",
    "label_encoder_country = LabelEncoder()\n",
    "X[:, 3] = label_encoder_country.fit_transform(X[:, 3])\n",
    "\n",
    "label_encoder_currency = LabelEncoder()\n",
    "X[:, 4] = label_encoder_currency.fit_transform(X[:, 4])\n",
    "\n",
    "label_encoder_category = LabelEncoder()\n",
    "X[:, 6] = label_encoder_category.fit_transform(X[:, 6])\n",
    "\n",
    "one_hot_encoding = OneHotEncoder(categorical_features=[1, 2, 3, 4, 6])\n",
    "X = one_hot_encoding.fit_transform(X).toarray()"
   ]
  },
  {
   "cell_type": "code",
   "execution_count": 3,
   "metadata": {},
   "outputs": [
    {
     "name": "stdout",
     "output_type": "stream",
     "text": [
      "(526243, 221) (131561, 221)\n"
     ]
    }
   ],
   "source": [
    "from sklearn.model_selection import train_test_split\n",
    "X_train, X_test, y_train, y_test = train_test_split(X, y, test_size=0.2)\n",
    "print(X_train.shape, X_test.shape)"
   ]
  },
  {
   "cell_type": "code",
   "execution_count": 4,
   "metadata": {},
   "outputs": [],
   "source": [
    "from sklearn.preprocessing import StandardScaler\n",
    "sc_X = StandardScaler()\n",
    "X_train = sc_X.fit_transform(X_train)\n",
    "X_test = sc_X.transform(X_test)"
   ]
  },
  {
   "cell_type": "code",
   "execution_count": 5,
   "metadata": {},
   "outputs": [
    {
     "name": "stderr",
     "output_type": "stream",
     "text": [
      "Using Theano backend.\n",
      "WARNING (theano.configdefaults): install mkl with `conda install mkl-service`: No module named 'mkl'\n",
      "WARNING (theano.tensor.blas): Using NumPy C-API based implementation for BLAS functions.\n"
     ]
    },
    {
     "name": "stdout",
     "output_type": "stream",
     "text": [
      "Input dim:  221\n",
      "Output dim:  73\n"
     ]
    },
    {
     "name": "stderr",
     "output_type": "stream",
     "text": [
      "/home/muruges/.conda/envs/CS3244_Proj/lib/python3.6/site-packages/ipykernel_launcher.py:16: UserWarning: Update your `Dropout` call to the Keras 2 API: `Dropout(rate=0.1)`\n",
      "  app.launch_new_instance()\n"
     ]
    },
    {
     "name": "stdout",
     "output_type": "stream",
     "text": [
      "Epoch 1/40\n",
      "526243/526243 [==============================] - 51s 97us/step - loss: 0.4715 - acc: 0.7570\n",
      "Epoch 2/40\n",
      "526243/526243 [==============================] - 50s 95us/step - loss: 0.4602 - acc: 0.7626\n",
      "Epoch 3/40\n",
      "526243/526243 [==============================] - 54s 102us/step - loss: 0.4559 - acc: 0.7647\n",
      "Epoch 4/40\n",
      "526243/526243 [==============================] - 52s 99us/step - loss: 0.4532 - acc: 0.7664\n",
      "Epoch 5/40\n",
      "526243/526243 [==============================] - 51s 98us/step - loss: 0.4508 - acc: 0.7670\n",
      "Epoch 6/40\n",
      "526243/526243 [==============================] - 50s 94us/step - loss: 0.4487 - acc: 0.7688\n",
      "Epoch 7/40\n",
      "526243/526243 [==============================] - 51s 97us/step - loss: 0.4470 - acc: 0.7702\n",
      "Epoch 8/40\n",
      "526243/526243 [==============================] - 52s 98us/step - loss: 0.4455 - acc: 0.7708\n",
      "Epoch 9/40\n",
      "526243/526243 [==============================] - 46s 88us/step - loss: 0.4442 - acc: 0.7719\n",
      "Epoch 10/40\n",
      "526243/526243 [==============================] - 46s 87us/step - loss: 0.4430 - acc: 0.7724\n",
      "Epoch 11/40\n",
      "526243/526243 [==============================] - 46s 87us/step - loss: 0.4416 - acc: 0.7733\n",
      "Epoch 12/40\n",
      "526243/526243 [==============================] - 47s 89us/step - loss: 0.4405 - acc: 0.7744\n",
      "Epoch 13/40\n",
      "526243/526243 [==============================] - 49s 93us/step - loss: 0.4398 - acc: 0.7743\n",
      "Epoch 14/40\n",
      "526243/526243 [==============================] - 48s 92us/step - loss: 0.4387 - acc: 0.7753\n",
      "Epoch 15/40\n",
      "526243/526243 [==============================] - 48s 91us/step - loss: 0.4375 - acc: 0.7757\n",
      "Epoch 16/40\n",
      "526243/526243 [==============================] - 46s 88us/step - loss: 0.4365 - acc: 0.7764\n",
      "Epoch 17/40\n",
      "526243/526243 [==============================] - 46s 88us/step - loss: 0.4357 - acc: 0.7767\n",
      "Epoch 18/40\n",
      "526243/526243 [==============================] - 44s 83us/step - loss: 0.4350 - acc: 0.7779\n",
      "Epoch 19/40\n",
      "526243/526243 [==============================] - 48s 91us/step - loss: 0.4342 - acc: 0.7777\n",
      "Epoch 20/40\n",
      "526243/526243 [==============================] - 44s 85us/step - loss: 0.4339 - acc: 0.7778\n",
      "Epoch 21/40\n",
      "526243/526243 [==============================] - 52s 98us/step - loss: 0.4333 - acc: 0.7781\n",
      "Epoch 22/40\n",
      "526243/526243 [==============================] - 54s 103us/step - loss: 0.4328 - acc: 0.7790\n",
      "Epoch 23/40\n",
      "526243/526243 [==============================] - 51s 96us/step - loss: 0.4320 - acc: 0.7794\n",
      "Epoch 24/40\n",
      "526243/526243 [==============================] - 47s 88us/step - loss: 0.4313 - acc: 0.7792\n",
      "Epoch 25/40\n",
      "526243/526243 [==============================] - 45s 85us/step - loss: 0.4315 - acc: 0.7796\n",
      "Epoch 26/40\n",
      "526243/526243 [==============================] - 44s 84us/step - loss: 0.4310 - acc: 0.7793\n",
      "Epoch 27/40\n",
      "526243/526243 [==============================] - 45s 85us/step - loss: 0.4299 - acc: 0.7808\n",
      "Epoch 28/40\n",
      "526243/526243 [==============================] - 44s 84us/step - loss: 0.4299 - acc: 0.7807\n",
      "Epoch 29/40\n",
      "526243/526243 [==============================] - 43s 82us/step - loss: 0.4294 - acc: 0.7812\n",
      "Epoch 30/40\n",
      "526243/526243 [==============================] - 40s 76us/step - loss: 0.4291 - acc: 0.7808\n",
      "Epoch 31/40\n",
      "526243/526243 [==============================] - 40s 77us/step - loss: 0.4287 - acc: 0.7816\n",
      "Epoch 32/40\n",
      "526243/526243 [==============================] - 39s 75us/step - loss: 0.4282 - acc: 0.7818\n",
      "Epoch 33/40\n",
      "526243/526243 [==============================] - 45s 85us/step - loss: 0.4280 - acc: 0.7820\n",
      "Epoch 34/40\n",
      "526243/526243 [==============================] - 50s 94us/step - loss: 0.4278 - acc: 0.7818\n",
      "Epoch 35/40\n",
      "526243/526243 [==============================] - 52s 99us/step - loss: 0.4272 - acc: 0.7821\n",
      "Epoch 36/40\n",
      "526243/526243 [==============================] - 53s 100us/step - loss: 0.4268 - acc: 0.7822\n",
      "Epoch 37/40\n",
      "526243/526243 [==============================] - 53s 101us/step - loss: 0.4264 - acc: 0.7831\n",
      "Epoch 38/40\n",
      "526243/526243 [==============================] - 51s 97us/step - loss: 0.4263 - acc: 0.7830\n",
      "Epoch 39/40\n",
      "526243/526243 [==============================] - 53s 101us/step - loss: 0.4261 - acc: 0.7830\n",
      "Epoch 40/40\n",
      "526243/526243 [==============================] - 52s 99us/step - loss: 0.4257 - acc: 0.7835\n"
     ]
    },
    {
     "data": {
      "text/plain": [
       "<keras.callbacks.History at 0x7f1b823a7b00>"
      ]
     },
     "execution_count": 5,
     "metadata": {},
     "output_type": "execute_result"
    }
   ],
   "source": [
    "import keras\n",
    "from keras.models import Sequential\n",
    "from keras.layers import Dense\n",
    "from keras.layers import Dropout\n",
    "\n",
    "classifier = Sequential()\n",
    "\n",
    "input_dim = int(X_train.shape[1])\n",
    "output_dim = input_dim // 3\n",
    "\n",
    "print('Input dim: ', input_dim)\n",
    "print('Output dim: ', output_dim)\n",
    "\n",
    "#input layer\n",
    "classifier.add(Dense(units=output_dim, activation='relu', input_dim=input_dim))\n",
    "classifier.add(Dropout(p=0.1))\n",
    "\n",
    "# hidden layer\n",
    "classifier.add(Dense(units=output_dim, activation='relu'))\n",
    "classifier.add(Dropout(rate=0.1))\n",
    "classifier.add(Dense(units=output_dim, activation='relu'))\n",
    "classifier.add(Dropout(rate=0.1))\n",
    "\n",
    "# output layer\n",
    "classifier.add(Dense(units=1, activation='sigmoid'))\n",
    "\n",
    "# compile ann\n",
    "classifier.compile(optimizer='adam', loss='binary_crossentropy', metrics=['accuracy'])\n",
    "\n",
    "# fit ANN\n",
    "classifier.fit(X_train, y_train, batch_size=30, epochs=40)"
   ]
  },
  {
   "cell_type": "code",
   "execution_count": 6,
   "metadata": {},
   "outputs": [
    {
     "data": {
      "text/plain": [
       "array([[False],\n",
       "       [False],\n",
       "       [False],\n",
       "       ...,\n",
       "       [ True],\n",
       "       [False],\n",
       "       [False]])"
      ]
     },
     "execution_count": 6,
     "metadata": {},
     "output_type": "execute_result"
    }
   ],
   "source": [
    "y_pred = classifier.predict(X_test)\n",
    "y_pred = (y_pred > 0.5)\n",
    "y_pred"
   ]
  },
  {
   "cell_type": "code",
   "execution_count": 8,
   "metadata": {},
   "outputs": [
    {
     "name": "stdout",
     "output_type": "stream",
     "text": [
      "Accuracy score of:  0.7818426433365511\n",
      "False Positive rate of:  0.06928345026261581\n",
      "False Negative rate of:  0.14887390640083306\n",
      "ROC AUC Score of:  0.7819745276182406\n",
      "F1 Score of:  0.7634058478760849\n"
     ]
    }
   ],
   "source": [
    "from sklearn.metrics import accuracy_score, confusion_matrix, roc_auc_score, f1_score\n",
    "accuracy_score = accuracy_score(y_test, y_pred)\n",
    "confusion_matrix = confusion_matrix(y_test, y_pred) / len(y_pred)\n",
    "roc_score = roc_auc_score(y_test, y_pred)\n",
    "f1_score = f1_score(y_test, y_pred)\n",
    "print(\"Accuracy score of: \", accuracy_score)\n",
    "print(\"False Positive rate of: \", confusion_matrix[0, 1])\n",
    "print(\"False Negative rate of: \", confusion_matrix[1, 0])\n",
    "print(\"ROC AUC Score of: \", roc_score)\n",
    "print(\"F1 Score of: \", f1_score)"
   ]
  },
  {
   "cell_type": "code",
   "execution_count": null,
   "metadata": {},
   "outputs": [],
   "source": []
  }
 ],
 "metadata": {
  "kernelspec": {
   "display_name": "Python 3",
   "language": "python",
   "name": "python3"
  },
  "language_info": {
   "codemirror_mode": {
    "name": "ipython",
    "version": 3
   },
   "file_extension": ".py",
   "mimetype": "text/x-python",
   "name": "python",
   "nbconvert_exporter": "python",
   "pygments_lexer": "ipython3",
   "version": "3.6.7"
  }
 },
 "nbformat": 4,
 "nbformat_minor": 2
}
