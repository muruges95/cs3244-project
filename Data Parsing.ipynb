{
 "cells": [
  {
   "cell_type": "code",
   "execution_count": 1,
   "metadata": {},
   "outputs": [
    {
     "name": "stdout",
     "output_type": "stream",
     "text": [
      "['index', 'backers_count', 'blurb', 'category', 'converted_pledged_amount', 'country', 'created_at', 'creator', 'currency', 'currency_symbol', 'currency_trailing_code', 'current_currency', 'deadline', 'disable_communication', 'friends', 'fx_rate', 'goal', 'id', 'is_backing', 'is_starrable', 'is_starred', 'launched_at', 'location', 'name', 'permissions', 'photo', 'pledged', 'profile', 'slug', 'source_url', 'spotlight', 'staff_pick', 'state', 'state_changed_at', 'static_usd_rate', 'urls', 'usd_pledged', 'usd_type']\n",
      "index                                                                       0\n",
      "backers_count                                                              10\n",
      "blurb                       Buttons created to commemorate the January 21s...\n",
      "category                    {\"id\":27,\"name\":\"Graphic Design\",\"slug\":\"desig...\n",
      "converted_pledged_amount                                                  171\n",
      "country                                                                    US\n",
      "created_at                                                         1485881124\n",
      "creator                     {\"id\":238269219,\"name\":\"Ashley Beard\",\"is_regi...\n",
      "currency                                                                  USD\n",
      "currency_symbol                                                             $\n",
      "currency_trailing_code                                                   True\n",
      "current_currency                                                          USD\n",
      "deadline                                                           1490381160\n",
      "disable_communication                                                   False\n",
      "friends                                                                   NaN\n",
      "fx_rate                                                                     1\n",
      "goal                                                                      500\n",
      "id                                                                 1031035337\n",
      "is_backing                                                                NaN\n",
      "is_starrable                                                            False\n",
      "is_starred                                                                NaN\n",
      "launched_at                                                        1487792760\n",
      "location                    {\"id\":2483145,\"name\":\"Rock Hill\",\"slug\":\"rock-...\n",
      "name                            Women's March Commemorative Political Buttons\n",
      "permissions                                                               NaN\n",
      "photo                       {\"key\":\"assets/015/348/997/3e163975aecf7a91b4a...\n",
      "pledged                                                                   171\n",
      "profile                     {\"id\":2859229,\"project_id\":2859229,\"state\":\"in...\n",
      "slug                             womens-march-commemorative-political-buttons\n",
      "source_url                  https://www.kickstarter.com/discover/categorie...\n",
      "spotlight                                                               False\n",
      "staff_pick                                                              False\n",
      "state                                                                  failed\n",
      "state_changed_at                                                   1490381160\n",
      "static_usd_rate                                                             1\n",
      "urls                        {\"web\":{\"project\":\"https://www.kickstarter.com...\n",
      "usd_pledged                                                               171\n",
      "usd_type                                                             domestic\n",
      "Name: 0, dtype: object\n"
     ]
    }
   ],
   "source": [
    "#import multiple files with names as Kickstarter*.csv into pandas dataframe (data used 15 Aug 2019)\n",
    "\n",
    "from glob import glob\n",
    "import pandas as pd\n",
    "\n",
    "# for auto-reloading extenrnal modules\n",
    "%load_ext autoreload\n",
    "%autoreload 2\n",
    "\n",
    "#just replace the path parts\n",
    "#glob import all files starting with Kickstarter in the folder (the folder i used is the 15 Aug 2019)\n",
    "\n",
    "filenames = glob(r\"Kickstarter_2019-08-15T03_20_03_022Z/Kickstarter*.csv\")\n",
    "\n",
    "df = [pd.read_csv(f, encoding='utf-8') for f in filenames]\n",
    "\n",
    "data = pd.concat(df, axis = 0, ignore_index = True).reset_index()\n",
    "print(data.columns.tolist())\n",
    "print(data.iloc[0])"
   ]
  },
  {
   "cell_type": "code",
   "execution_count": 2,
   "metadata": {},
   "outputs": [],
   "source": [
    "from pandas.io.json import json_normalize\n",
    "import json as json\n",
    "import numpy as np\n",
    "\n",
    "#data['category'].fillna(json.dumps('{}'), inplace = True)\n",
    "data['location'].fillna('{}', inplace = True)\n",
    "#data['creator'].fillna(json.dumps('{}'), inplace = True)\n",
    "\n",
    "x1 = json_normalize(data['category'].apply(json.loads)).add_prefix('category_')\n",
    "x3 = json_normalize(data['location'].apply(json.loads)).add_prefix('location_')\n",
    "x5 = json_normalize(data['creator'].apply(lambda x: json.loads(x.replace('\\n', '').replace('\\r', '').replace('\\\\', '').replace('\"', r'\\\"').replace(r'{\\\"', '{\"').replace(r'\\\"}', '\"}').replace(r':\\\"', ':\"').replace(r'\\\":', '\":').replace(r',\\\"', ',\"').replace(r'\\\",', '\",').replace(r'\", ', r'\\\",')))).add_prefix('creator_')\n",
    "\n",
    "data = pd.concat([data, x1, x3, x5], axis = 1)"
   ]
  },
  {
   "cell_type": "code",
   "execution_count": 3,
   "metadata": {},
   "outputs": [],
   "source": [
    "from datetime import datetime\n",
    "data['launched_at_utc'] = data['launched_at'].apply(datetime.utcfromtimestamp)\n",
    "data['deadline_utc'] = data['deadline'].apply(datetime.utcfromtimestamp)\n",
    "data['created_at_utc'] = data['created_at'].apply(datetime.utcfromtimestamp)\n",
    "data['goal'] = round(data['goal'] * data['static_usd_rate'], 2)"
   ]
  },
  {
   "cell_type": "code",
   "execution_count": 4,
   "metadata": {},
   "outputs": [
    {
     "name": "stderr",
     "output_type": "stream",
     "text": [
      "/home/muruges/.conda/envs/CS3244_Proj/lib/python3.6/site-packages/ipykernel_launcher.py:12: SettingWithCopyWarning: \n",
      "A value is trying to be set on a copy of a slice from a DataFrame.\n",
      "Try using .loc[row_indexer,col_indexer] = value instead\n",
      "\n",
      "See the caveats in the documentation: http://pandas.pydata.org/pandas-docs/stable/user_guide/indexing.html#returning-a-view-versus-a-copy\n",
      "  if sys.path[0] == '':\n",
      "/home/muruges/.conda/envs/CS3244_Proj/lib/python3.6/site-packages/ipykernel_launcher.py:15: SettingWithCopyWarning: \n",
      "A value is trying to be set on a copy of a slice from a DataFrame.\n",
      "Try using .loc[row_indexer,col_indexer] = value instead\n",
      "\n",
      "See the caveats in the documentation: http://pandas.pydata.org/pandas-docs/stable/user_guide/indexing.html#returning-a-view-versus-a-copy\n",
      "  from ipykernel import kernelapp as app\n",
      "/home/muruges/.conda/envs/CS3244_Proj/lib/python3.6/site-packages/ipykernel_launcher.py:18: SettingWithCopyWarning: \n",
      "A value is trying to be set on a copy of a slice from a DataFrame.\n",
      "Try using .loc[row_indexer,col_indexer] = value instead\n",
      "\n",
      "See the caveats in the documentation: http://pandas.pydata.org/pandas-docs/stable/user_guide/indexing.html#returning-a-view-versus-a-copy\n"
     ]
    }
   ],
   "source": [
    "#pick the relevant data and drop all irrelevant data \n",
    "\n",
    "df = data[['disable_communication', 'country', 'currency',\n",
    "'goal', 'category_id', 'deadline_utc', 'launched_at_utc', 'state']]\n",
    "\n",
    "#feature creation \n",
    "#feature 1: no. of projects for each creator \n",
    "# df1 = df.groupby('creator_id')['id'].count()\n",
    "# df = pd.merge(df, pd.DataFrame(df1), how = 'left', on = 'creator_id')\n",
    "\n",
    "#feature 2: duration of project \n",
    "df['duration'] = (df['deadline_utc'] - df['launched_at_utc']).dt.days\n",
    "\n",
    "#feature 4: month of launch\n",
    "df['launch_month'] = df['launched_at_utc'].dt.month\n",
    "\n",
    "#change state to numerical \n",
    "df['state'] = df['state'].map({'successful': 1, 'failed': 0 })\n",
    "\n",
    "#drop columns\n",
    "df = df.drop(columns = ['launched_at_utc', 'deadline_utc'])\n",
    "df = df.dropna() #drop null rows\n",
    "columns = df.columns.tolist()\n",
    "\n",
    "columns = columns[-2:] + columns[:-2]\n",
    "df = df[columns]"
   ]
  },
  {
   "cell_type": "code",
   "execution_count": 5,
   "metadata": {
    "scrolled": true
   },
   "outputs": [
    {
     "name": "stdout",
     "output_type": "stream",
     "text": [
      "['duration', 'launch_month', 'disable_communication', 'country', 'currency', 'goal', 'category_id', 'state']\n",
      "[29 2 False 'US' 'USD' 500.0 27 0.0]\n"
     ]
    },
    {
     "name": "stderr",
     "output_type": "stream",
     "text": [
      "/home/muruges/.conda/envs/CS3244_Proj/lib/python3.6/site-packages/sklearn/preprocessing/_encoders.py:415: FutureWarning: The handling of integer data will change in version 0.22. Currently, the categories are determined based on the range [0, max(values)], while in the future they will be determined based on the unique values.\n",
      "If you want the future behaviour and silence this warning, you can specify \"categories='auto'\".\n",
      "In case you used a LabelEncoder before this OneHotEncoder to convert the categories to integers, then you can now use the OneHotEncoder directly.\n",
      "  warnings.warn(msg, FutureWarning)\n",
      "/home/muruges/.conda/envs/CS3244_Proj/lib/python3.6/site-packages/sklearn/preprocessing/_encoders.py:451: DeprecationWarning: The 'categorical_features' keyword is deprecated in version 0.20 and will be removed in 0.22. You can use the ColumnTransformer instead.\n",
      "  \"use the ColumnTransformer instead.\", DeprecationWarning)\n"
     ]
    }
   ],
   "source": [
    "from sklearn.preprocessing import LabelEncoder, OneHotEncoder\n",
    "\n",
    "print(df.columns.tolist())\n",
    "print(df.iloc[0].values)\n",
    "X = np.array(df.iloc[:,:-1].values)\n",
    "y = np.array(df.iloc[:,-1].values)\n",
    "\n",
    "label_encoder_month_of_launch = LabelEncoder()\n",
    "X[:, 1] = label_encoder_month_of_launch.fit_transform(X[:, 1])\n",
    "\n",
    "label_encoder_disable_com = LabelEncoder()\n",
    "X[:, 2] = label_encoder_disable_com.fit_transform(X[:, 2])\n",
    "\n",
    "label_encoder_country = LabelEncoder()\n",
    "X[:, 3] = label_encoder_country.fit_transform(X[:, 3])\n",
    "\n",
    "label_encoder_currency = LabelEncoder()\n",
    "X[:, 4] = label_encoder_currency.fit_transform(X[:, 4])\n",
    "\n",
    "label_encoder_category = LabelEncoder()\n",
    "X[:, 6] = label_encoder_category.fit_transform(X[:, 6])\n",
    "\n",
    "one_hot_encoding = OneHotEncoder(categorical_features=[1, 2, 3, 4, 6])\n",
    "X = one_hot_encoding.fit_transform(X).toarray()"
   ]
  },
  {
   "cell_type": "code",
   "execution_count": 6,
   "metadata": {},
   "outputs": [
    {
     "name": "stdout",
     "output_type": "stream",
     "text": [
      "(153860, 219) (38466, 219)\n"
     ]
    }
   ],
   "source": [
    "from sklearn.model_selection import train_test_split\n",
    "X_train, X_test, y_train, y_test = train_test_split(X, y, test_size=0.2)\n",
    "print(X_train.shape, X_test.shape)"
   ]
  },
  {
   "cell_type": "code",
   "execution_count": 7,
   "metadata": {},
   "outputs": [],
   "source": [
    "from sklearn.preprocessing import StandardScaler\n",
    "sc_X = StandardScaler()\n",
    "X_train = sc_X.fit_transform(X_train)\n",
    "X_test = sc_X.transform(X_test)"
   ]
  },
  {
   "cell_type": "code",
   "execution_count": 20,
   "metadata": {},
   "outputs": [
    {
     "name": "stdout",
     "output_type": "stream",
     "text": [
      "Input dim:  219\n",
      "Output dim:  109\n"
     ]
    },
    {
     "name": "stderr",
     "output_type": "stream",
     "text": [
      "/home/muruges/.conda/envs/CS3244_Proj/lib/python3.6/site-packages/ipykernel_launcher.py:16: UserWarning: Update your `Dropout` call to the Keras 2 API: `Dropout(rate=0.1)`\n",
      "  app.launch_new_instance()\n",
      "/home/muruges/.conda/envs/CS3244_Proj/lib/python3.6/site-packages/ipykernel_launcher.py:20: UserWarning: Update your `Dropout` call to the Keras 2 API: `Dropout(rate=0.1)`\n",
      "/home/muruges/.conda/envs/CS3244_Proj/lib/python3.6/site-packages/ipykernel_launcher.py:23: UserWarning: Update your `Dense` call to the Keras 2 API: `Dense(activation=\"sigmoid\", units=1)`\n"
     ]
    },
    {
     "name": "stdout",
     "output_type": "stream",
     "text": [
      "Epoch 1/50\n",
      "153860/153860 [==============================] - 18s 120us/step - loss: 0.4676 - acc: 0.7445\n",
      "Epoch 2/50\n",
      "153860/153860 [==============================] - 23s 152us/step - loss: 0.4538 - acc: 0.7547\n",
      "Epoch 3/50\n",
      "153860/153860 [==============================] - 27s 174us/step - loss: 0.4499 - acc: 0.7576\n",
      "Epoch 4/50\n",
      "153860/153860 [==============================] - 29s 186us/step - loss: 0.4468 - acc: 0.7599\n",
      "Epoch 5/50\n",
      "153860/153860 [==============================] - 28s 184us/step - loss: 0.4443 - acc: 0.7615\n",
      "Epoch 6/50\n",
      "153860/153860 [==============================] - 26s 172us/step - loss: 0.4416 - acc: 0.7628\n",
      "Epoch 7/50\n",
      "153860/153860 [==============================] - 26s 169us/step - loss: 0.4395 - acc: 0.7641\n",
      "Epoch 8/50\n",
      "153860/153860 [==============================] - 27s 176us/step - loss: 0.4379 - acc: 0.7646\n",
      "Epoch 9/50\n",
      "153860/153860 [==============================] - 27s 177us/step - loss: 0.4357 - acc: 0.7665\n",
      "Epoch 10/50\n",
      "153860/153860 [==============================] - 26s 170us/step - loss: 0.4339 - acc: 0.7673\n",
      "Epoch 11/50\n",
      "153860/153860 [==============================] - 28s 180us/step - loss: 0.4329 - acc: 0.7692\n",
      "Epoch 12/50\n",
      "153860/153860 [==============================] - 30s 198us/step - loss: 0.4312 - acc: 0.7702\n",
      "Epoch 13/50\n",
      "153860/153860 [==============================] - 31s 200us/step - loss: 0.4291 - acc: 0.7710\n",
      "Epoch 14/50\n",
      "153860/153860 [==============================] - 30s 195us/step - loss: 0.4277 - acc: 0.7720\n",
      "Epoch 15/50\n",
      "153860/153860 [==============================] - 33s 212us/step - loss: 0.4263 - acc: 0.7720\n",
      "Epoch 16/50\n",
      "153860/153860 [==============================] - 34s 224us/step - loss: 0.4249 - acc: 0.7727\n",
      "Epoch 17/50\n",
      "153860/153860 [==============================] - 35s 227us/step - loss: 0.4235 - acc: 0.7743\n",
      "Epoch 18/50\n",
      "153860/153860 [==============================] - 37s 239us/step - loss: 0.4227 - acc: 0.7748\n",
      "Epoch 19/50\n",
      "153860/153860 [==============================] - 38s 245us/step - loss: 0.4211 - acc: 0.7762\n",
      "Epoch 20/50\n",
      "153860/153860 [==============================] - 38s 244us/step - loss: 0.4196 - acc: 0.7762\n",
      "Epoch 21/50\n",
      "153860/153860 [==============================] - 37s 237us/step - loss: 0.4183 - acc: 0.7776\n",
      "Epoch 22/50\n",
      "153860/153860 [==============================] - 36s 231us/step - loss: 0.4172 - acc: 0.7791\n",
      "Epoch 23/50\n",
      "153860/153860 [==============================] - 36s 232us/step - loss: 0.4160 - acc: 0.7791\n",
      "Epoch 24/50\n",
      "153860/153860 [==============================] - 36s 234us/step - loss: 0.4147 - acc: 0.7798\n",
      "Epoch 25/50\n",
      "153860/153860 [==============================] - 36s 234us/step - loss: 0.4134 - acc: 0.7814\n",
      "Epoch 26/50\n",
      "153860/153860 [==============================] - 36s 235us/step - loss: 0.4126 - acc: 0.7808\n",
      "Epoch 27/50\n",
      "153860/153860 [==============================] - 36s 234us/step - loss: 0.4126 - acc: 0.7812\n",
      "Epoch 28/50\n",
      "153860/153860 [==============================] - 36s 237us/step - loss: 0.4101 - acc: 0.7824\n",
      "Epoch 29/50\n",
      "153860/153860 [==============================] - 36s 233us/step - loss: 0.4104 - acc: 0.7827\n",
      "Epoch 30/50\n",
      "153860/153860 [==============================] - 35s 227us/step - loss: 0.4090 - acc: 0.7834\n",
      "Epoch 31/50\n",
      "153860/153860 [==============================] - 38s 248us/step - loss: 0.4078 - acc: 0.7839\n",
      "Epoch 32/50\n",
      "153860/153860 [==============================] - 38s 246us/step - loss: 0.4077 - acc: 0.7845\n",
      "Epoch 33/50\n",
      "153860/153860 [==============================] - 38s 246us/step - loss: 0.4064 - acc: 0.7853\n",
      "Epoch 34/50\n",
      "153860/153860 [==============================] - 38s 245us/step - loss: 0.4064 - acc: 0.7847\n",
      "Epoch 35/50\n",
      "153860/153860 [==============================] - 38s 244us/step - loss: 0.4050 - acc: 0.7859\n",
      "Epoch 36/50\n",
      "153860/153860 [==============================] - 38s 248us/step - loss: 0.4036 - acc: 0.7859\n",
      "Epoch 37/50\n",
      "153860/153860 [==============================] - 37s 241us/step - loss: 0.4040 - acc: 0.7864\n",
      "Epoch 38/50\n",
      "153860/153860 [==============================] - 38s 246us/step - loss: 0.4030 - acc: 0.7868\n",
      "Epoch 39/50\n",
      "153860/153860 [==============================] - 37s 243us/step - loss: 0.4019 - acc: 0.7883\n",
      "Epoch 40/50\n",
      "153860/153860 [==============================] - 38s 246us/step - loss: 0.4018 - acc: 0.7875\n",
      "Epoch 41/50\n",
      "153860/153860 [==============================] - 36s 236us/step - loss: 0.4002 - acc: 0.7884\n",
      "Epoch 42/50\n",
      "153860/153860 [==============================] - 37s 240us/step - loss: 0.4003 - acc: 0.7884\n",
      "Epoch 43/50\n",
      "153860/153860 [==============================] - 37s 240us/step - loss: 0.3999 - acc: 0.7888\n",
      "Epoch 44/50\n",
      "153860/153860 [==============================] - 38s 247us/step - loss: 0.3990 - acc: 0.7885\n",
      "Epoch 45/50\n",
      "153860/153860 [==============================] - 37s 241us/step - loss: 0.3980 - acc: 0.7888\n",
      "Epoch 46/50\n",
      "153860/153860 [==============================] - 36s 236us/step - loss: 0.3984 - acc: 0.7896\n",
      "Epoch 47/50\n",
      "153860/153860 [==============================] - 36s 234us/step - loss: 0.3970 - acc: 0.7906\n",
      "Epoch 48/50\n",
      "153860/153860 [==============================] - 36s 234us/step - loss: 0.3971 - acc: 0.7913\n",
      "Epoch 49/50\n",
      "153860/153860 [==============================] - 36s 237us/step - loss: 0.3965 - acc: 0.7903\n",
      "Epoch 50/50\n",
      "153860/153860 [==============================] - 38s 246us/step - loss: 0.3961 - acc: 0.7918\n"
     ]
    },
    {
     "data": {
      "text/plain": [
       "<keras.callbacks.History at 0x7f7d04ca5a20>"
      ]
     },
     "execution_count": 20,
     "metadata": {},
     "output_type": "execute_result"
    }
   ],
   "source": [
    "import keras\n",
    "from keras.models import Sequential\n",
    "from keras.layers import Dense\n",
    "from keras.layers import Dropout\n",
    "\n",
    "classifier = Sequential()\n",
    "\n",
    "input_dim = int(X_train.shape[1])\n",
    "output_dim = input_dim // 2\n",
    "\n",
    "print('Input dim: ', input_dim)\n",
    "print('Output dim: ', output_dim)\n",
    "\n",
    "#input layer\n",
    "classifier.add(Dense(units=input_dim, activation='relu', input_dim=input_dim))\n",
    "classifier.add(Dropout(p=0.1))\n",
    "\n",
    "# hidden layer\n",
    "classifier.add(Dense(units=input_dim, activation='relu'))\n",
    "classifier.add(Dropout(p=0.1))\n",
    "\n",
    "# output layer\n",
    "classifier.add(Dense(output_dim=1, activation='sigmoid'))\n",
    "\n",
    "# compile ann\n",
    "classifier.compile(optimizer='adam', loss='binary_crossentropy', metrics=['accuracy'])\n",
    "\n",
    "# fit ANN\n",
    "classifier.fit(X_train, y_train, batch_size=30, epochs=50)"
   ]
  },
  {
   "cell_type": "code",
   "execution_count": 21,
   "metadata": {},
   "outputs": [
    {
     "data": {
      "text/plain": [
       "array([[ True],\n",
       "       [ True],\n",
       "       [False],\n",
       "       ...,\n",
       "       [False],\n",
       "       [False],\n",
       "       [ True]])"
      ]
     },
     "execution_count": 21,
     "metadata": {},
     "output_type": "execute_result"
    }
   ],
   "source": [
    "y_pred = classifier.predict(X_test)\n",
    "y_pred = (y_pred > 0.5)\n",
    "y_pred"
   ]
  },
  {
   "cell_type": "code",
   "execution_count": 22,
   "metadata": {},
   "outputs": [
    {
     "data": {
      "text/plain": [
       "0.7618156293869911"
      ]
     },
     "execution_count": 22,
     "metadata": {},
     "output_type": "execute_result"
    }
   ],
   "source": [
    "from sklearn.metrics import accuracy_score\n",
    "metrics = accuracy_score(y_test, y_pred)\n",
    "metrics"
   ]
  },
  {
   "cell_type": "code",
   "execution_count": null,
   "metadata": {},
   "outputs": [],
   "source": []
  }
 ],
 "metadata": {
  "kernelspec": {
   "display_name": "Python 3",
   "language": "python",
   "name": "python3"
  },
  "language_info": {
   "codemirror_mode": {
    "name": "ipython",
    "version": 3
   },
   "file_extension": ".py",
   "mimetype": "text/x-python",
   "name": "python",
   "nbconvert_exporter": "python",
   "pygments_lexer": "ipython3",
   "version": "3.6.7"
  }
 },
 "nbformat": 4,
 "nbformat_minor": 2
}
